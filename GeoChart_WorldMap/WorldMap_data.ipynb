{
 "cells": [
  {
   "cell_type": "code",
   "execution_count": null,
   "metadata": {},
   "outputs": [],
   "source": [
    "import pandas as pd\n",
    "import pycountry\n",
    "import numpy as np\n",
    "import json\n",
    "import re\n",
    "from pprint import pprint"
   ]
  },
  {
   "cell_type": "markdown",
   "metadata": {},
   "source": [
    "### Extract CSVs into DataFrames"
   ]
  },
  {
   "cell_type": "code",
   "execution_count": null,
   "metadata": {},
   "outputs": [],
   "source": [
    "# Import csv into happiness_df\n",
    "happiness_file = \"Resources/world-happiness-report.csv\"\n",
    "happiness_df = pd.read_csv(happiness_file)"
   ]
  },
  {
   "cell_type": "markdown",
   "metadata": {},
   "source": [
    "### Transform DataFrames"
   ]
  },
  {
   "cell_type": "code",
   "execution_count": null,
   "metadata": {},
   "outputs": [],
   "source": [
    "# Filter happiness_df for years above 2011\n",
    "happiness_df = happiness_df[happiness_df.year >= 2011]\n",
    "happiness_df"
   ]
  },
  {
   "cell_type": "code",
   "execution_count": null,
   "metadata": {},
   "outputs": [],
   "source": [
    "# Rename and select the column headers\n",
    "#happiness_cols = [\"Country name\", \"year\", \"Life Ladder\", \"Social support\", \"Freedom to make life choices\", \"Perceptions of corruption\"]\n",
    "happiness_transformed = happiness_df.rename(columns={\"Country name\": \"country\",\n",
    "                                                    \"year\": \"year\",\n",
    "                                                    \"Life Ladder\": \"happiness_rating\",\n",
    "                                                     \"Log GDP per capita\": \"gdp_per_capita\",\n",
    "                                                    \"Social support\": \"social_support\",\n",
    "                                                     \"Healthy life expectancy at birth\": \"life_expectancy\",\n",
    "                                                    \"Freedom to make life choices\": \"freedom\",\n",
    "                                                     \"Generosity\": \"generosity\",\n",
    "                                                    \"Perceptions of corruption\": \"corruption\"})\n",
    "#happiness_df_cols = [\"country\", \"happiness_rating\", \"social_support\", \"freedom\", \"corruption\"]\n",
    "#happiness_transformed = happiness_transformed[happiness_df_cols].copy()\n",
    "happiness_transformed = happiness_transformed.drop([\"Positive affect\", \"Negative affect\"], axis=1).reset_index()\n",
    "happiness_transformed = happiness_transformed.drop([\"index\"], axis=1)\n",
    "happiness_transformed"
   ]
  },
  {
   "cell_type": "code",
   "execution_count": null,
   "metadata": {},
   "outputs": [],
   "source": [
    "# Define a function to add the alpha_2 id code corresponding to each country name\n",
    "def findCountry (country_name):\n",
    "    try:\n",
    "        return pycountry.countries.get(name=country_name).alpha_2\n",
    "    except:\n",
    "        return (\"Not found\")"
   ]
  },
  {
   "cell_type": "code",
   "execution_count": null,
   "metadata": {},
   "outputs": [],
   "source": [
    "happiness_transformed[\"id\"] = happiness_transformed.apply(lambda row: findCountry(row.country), axis = 1)\n",
    "happiness_master = happiness_transformed.drop(['id'], axis = 1)\n",
    "happiness_master"
   ]
  },
  {
   "cell_type": "code",
   "execution_count": null,
   "metadata": {},
   "outputs": [],
   "source": [
    "happiness_data = happiness_master.drop(columns=['social_support', 'life_expectancy', 'freedom', 'generosity', 'corruption'])\n",
    "happiness_data"
   ]
  },
  {
   "cell_type": "code",
   "execution_count": null,
   "metadata": {},
   "outputs": [],
   "source": [
    "# Create a master country list with alpha_2 id codes\n",
    "country_id_cols = [\"id\", \"country\", \"year\", \"happiness_rating\", \"gdp_per_capita\"]\n",
    "country_id = happiness_transformed[country_id_cols].copy().drop_duplicates()\n",
    "country_id"
   ]
  },
  {
   "cell_type": "code",
   "execution_count": null,
   "metadata": {},
   "outputs": [],
   "source": [
    "new_country_id_missing = country_id.groupby([\"id\", \"country\", \"year\"], as_index=True)[['happiness_rating', 'gdp_per_capita']].mean()\n",
    "new_country_id_missing"
   ]
  },
  {
   "cell_type": "code",
   "execution_count": null,
   "metadata": {},
   "outputs": [],
   "source": [
    "new_country_id_missing_rnd = new_country_id_missing.round(1)"
   ]
  },
  {
   "cell_type": "code",
   "execution_count": null,
   "metadata": {},
   "outputs": [],
   "source": [
    "new_country_id_missing_rnd.to_csv('Resources/new_country_id_missing.csv')"
   ]
  },
  {
   "cell_type": "markdown",
   "metadata": {},
   "source": [
    "### Create database connection"
   ]
  },
  {
   "cell_type": "code",
   "execution_count": null,
   "metadata": {},
   "outputs": [],
   "source": [
    "new_country_id_filled = pd.read_csv('Resources/new_country_id_filled.csv')\n",
    "new_country_id_filled"
   ]
  },
  {
   "cell_type": "code",
   "execution_count": null,
   "metadata": {},
   "outputs": [],
   "source": [
    "master_country_id_filled = new_country_id_filled.set_index('id')"
   ]
  },
  {
   "cell_type": "code",
   "execution_count": null,
   "metadata": {},
   "outputs": [],
   "source": [
    "y2k11 = master_country_id_filled.loc[master_country_id_filled[\"year\"] == 2011, :]\n"
   ]
  },
  {
   "cell_type": "code",
   "execution_count": null,
   "metadata": {},
   "outputs": [],
   "source": [
    "y2k11_df = y2k11.drop(['year'], axis=1)\n",
    "y2k11_df"
   ]
  },
  {
   "cell_type": "code",
   "execution_count": null,
   "metadata": {},
   "outputs": [],
   "source": [
    "y2k12 = master_country_id_filled.loc[master_country_id_filled[\"year\"] == 2012, :]\n",
    "y2k12_df = y2k12.drop(['year'], axis=1)"
   ]
  },
  {
   "cell_type": "code",
   "execution_count": null,
   "metadata": {},
   "outputs": [],
   "source": [
    "y2k13 = master_country_id_filled.loc[master_country_id_filled[\"year\"] == 2013, :]\n",
    "y2k13_df = y2k13.drop(['year'], axis=1)"
   ]
  },
  {
   "cell_type": "code",
   "execution_count": null,
   "metadata": {},
   "outputs": [],
   "source": [
    "y2k14 = master_country_id_filled.loc[master_country_id_filled[\"year\"] == 2014, :]\n",
    "y2k14_df = y2k14.drop(['year'], axis=1)\n"
   ]
  },
  {
   "cell_type": "code",
   "execution_count": null,
   "metadata": {},
   "outputs": [],
   "source": [
    "y2k15 = master_country_id_filled.loc[master_country_id_filled[\"year\"] == 2015, :]\n",
    "y2k15_df = y2k15.drop(['year'], axis=1)\n"
   ]
  },
  {
   "cell_type": "code",
   "execution_count": null,
   "metadata": {},
   "outputs": [],
   "source": [
    "y2k16 = master_country_id_filled.loc[master_country_id_filled[\"year\"] == 2016, :]\n",
    "y2k16_df = y2k16.drop(['year'], axis=1)\n"
   ]
  },
  {
   "cell_type": "code",
   "execution_count": null,
   "metadata": {},
   "outputs": [],
   "source": [
    "y2k17 = master_country_id_filled.loc[master_country_id_filled[\"year\"] == 2017, :]\n",
    "y2k17_df = y2k17.drop(['year'], axis=1)\n"
   ]
  },
  {
   "cell_type": "code",
   "execution_count": null,
   "metadata": {},
   "outputs": [],
   "source": [
    "y2k18 = master_country_id_filled.loc[master_country_id_filled[\"year\"] == 2018, :]\n",
    "y2k18_df = y2k18.drop(['year'], axis=1)\n"
   ]
  },
  {
   "cell_type": "code",
   "execution_count": null,
   "metadata": {},
   "outputs": [],
   "source": [
    "y2k19 = master_country_id_filled.loc[master_country_id_filled[\"year\"] == 2019, :]\n",
    "y2k19_df = y2k19.drop(['year'], axis=1)\n"
   ]
  },
  {
   "cell_type": "code",
   "execution_count": null,
   "metadata": {},
   "outputs": [],
   "source": [
    "y2k20 = master_country_id_filled.loc[master_country_id_filled[\"year\"] == 2020, :]\n",
    "y2k20_df = y2k20.drop(['year'], axis=1)\n"
   ]
  },
  {
   "cell_type": "code",
   "execution_count": null,
   "metadata": {},
   "outputs": [],
   "source": [
    "with open('2011.json', 'w') as f:\n",
    "    f.write('var y2k11 = [\\n')\n",
    "    for i,j in y2k11_df.T.to_dict().items():\n",
    "        f.write( json.dumps(i)+ \": { \"+re.sub(r'[{\"\\']', '', json.dumps(j))+',\\n')\n",
    "    f.write('];')"
   ]
  },
  {
   "cell_type": "code",
   "execution_count": null,
   "metadata": {},
   "outputs": [],
   "source": [
    "with open('2012.json', 'w') as f:\n",
    "    f.write('var y2k12 = [\\n')\n",
    "    for i,j in y2k12_df.T.to_dict().items():\n",
    "        f.write(\"{id:\"+json.dumps(i)+\", \"+re.sub(r'[{\"\\']', '', json.dumps(j))+',\\n')\n",
    "    f.write('];')"
   ]
  },
  {
   "cell_type": "code",
   "execution_count": null,
   "metadata": {},
   "outputs": [],
   "source": [
    "with open('2013.json', 'w') as f:\n",
    "    f.write('var y2k13 = [\\n')\n",
    "    for i,j in y2k13_df.T.to_dict().items():\n",
    "        f.write(\"{id:\"+json.dumps(i)+\", \"+re.sub(r'[{\"\\']', '', json.dumps(j))+',\\n')\n",
    "    f.write('];')"
   ]
  },
  {
   "cell_type": "code",
   "execution_count": null,
   "metadata": {},
   "outputs": [],
   "source": [
    "with open('2014.json', 'w') as f:\n",
    "    f.write('var y2k14 = [\\n')\n",
    "    for i,j in y2k14_df.T.to_dict().items():\n",
    "        f.write(\"{id:\"+json.dumps(i)+\", \"+re.sub(r'[{\"\\']', '', json.dumps(j))+',\\n')\n",
    "    f.write('];')"
   ]
  },
  {
   "cell_type": "code",
   "execution_count": null,
   "metadata": {},
   "outputs": [],
   "source": [
    "with open('2015.json', 'w') as f:\n",
    "    f.write('var y2k15 = [\\n')\n",
    "    for i,j in y2k15_df.T.to_dict().items():\n",
    "        f.write(\"{id:\"+json.dumps(i)+\", \"+re.sub(r'[{\"\\']', '', json.dumps(j))+',\\n')\n",
    "    f.write('];')"
   ]
  },
  {
   "cell_type": "code",
   "execution_count": null,
   "metadata": {},
   "outputs": [],
   "source": [
    "with open('2016.json', 'w') as f:\n",
    "    f.write('var y2k16 = [\\n')\n",
    "    for i,j in y2k16_df.T.to_dict().items():\n",
    "        f.write(\"{id:\"+json.dumps(i)+\", \"+re.sub(r'[{\"\\']', '', json.dumps(j))+',\\n')\n",
    "    f.write('];')"
   ]
  },
  {
   "cell_type": "code",
   "execution_count": null,
   "metadata": {},
   "outputs": [],
   "source": [
    "with open('2017.json', 'w') as f:\n",
    "    f.write('var y2k17 = [\\n')\n",
    "    for i,j in y2k17_df.T.to_dict().items():\n",
    "        f.write(\"{id:\"+json.dumps(i)+\", \"+re.sub(r'[{\"\\']', '', json.dumps(j))+',\\n')\n",
    "    f.write('];')"
   ]
  },
  {
   "cell_type": "code",
   "execution_count": null,
   "metadata": {},
   "outputs": [],
   "source": [
    "with open('2018.json', 'w') as f:\n",
    "    f.write('var y2k18 = [\\n')\n",
    "    for i,j in y2k18_df.T.to_dict().items():\n",
    "        f.write(\"{id:\"+json.dumps(i)+\", \"+re.sub(r'[{\"\\']', '', json.dumps(j))+',\\n')\n",
    "    f.write('];')"
   ]
  },
  {
   "cell_type": "code",
   "execution_count": null,
   "metadata": {},
   "outputs": [],
   "source": [
    "with open('2019.json', 'w') as f:\n",
    "    f.write('var y2k19 = [\\n')\n",
    "    for i,j in y2k19_df.T.to_dict().items():\n",
    "        f.write(\"{id:\"+json.dumps(i)+\", \"+re.sub(r'[{\"\\']', '', json.dumps(j))+',\\n')\n",
    "    f.write('];')"
   ]
  },
  {
   "cell_type": "code",
   "execution_count": null,
   "metadata": {},
   "outputs": [],
   "source": [
    "with open('2020.json', 'w') as f:\n",
    "    f.write('var y2k20 = [\\n')\n",
    "    for i,j in y2k20_df.T.to_dict().items():\n",
    "        f.write(\"{id:\"+json.dumps(i)+\", \"+re.sub(r'[{\"\\']', '', json.dumps(j))+',\\n')\n",
    "    f.write('];')"
   ]
  },
  {
   "cell_type": "code",
   "execution_count": null,
   "metadata": {},
   "outputs": [],
   "source": [
    "# data for Geochart\n",
    "#master_df = new_country_id_filled.drop(columns=['id', 'gdp_per_capita'])\n",
    "#master_df"
   ]
  },
  {
   "cell_type": "code",
   "execution_count": null,
   "metadata": {},
   "outputs": [],
   "source": [
    "happiness_list = new_country_id_filled.values.tolist()\n",
    "#happiness_list"
   ]
  },
  {
   "cell_type": "code",
   "execution_count": null,
   "metadata": {},
   "outputs": [],
   "source": [
    "happiness_dict = new_dict_df.to_dict()\n",
    "#happiness_dict"
   ]
  },
  {
   "cell_type": "code",
   "execution_count": null,
   "metadata": {},
   "outputs": [],
   "source": [
    "# Year lists to create a map for each year"
   ]
  },
  {
   "cell_type": "code",
   "execution_count": null,
   "metadata": {},
   "outputs": [],
   "source": [
    "happiness_2011_list = y2k11_df.values.tolist()\n",
    "#happiness_2011_list"
   ]
  },
  {
   "cell_type": "code",
   "execution_count": null,
   "metadata": {},
   "outputs": [],
   "source": [
    "happiness_2012_list = y2k12_df.values.tolist()\n",
    "#happiness_2012_list"
   ]
  },
  {
   "cell_type": "code",
   "execution_count": null,
   "metadata": {},
   "outputs": [],
   "source": [
    "happiness_2013_list = y2k13_df.values.tolist()\n",
    "#happiness_2013_list"
   ]
  },
  {
   "cell_type": "code",
   "execution_count": null,
   "metadata": {},
   "outputs": [],
   "source": [
    "happiness_2014_list = y2k14_df.values.tolist()\n",
    "#happiness_2014_list"
   ]
  },
  {
   "cell_type": "code",
   "execution_count": null,
   "metadata": {},
   "outputs": [],
   "source": [
    "happiness_2015_list = y2k15_df.values.tolist()\n",
    "#happiness_2015_list"
   ]
  },
  {
   "cell_type": "code",
   "execution_count": null,
   "metadata": {},
   "outputs": [],
   "source": [
    "happiness_2016_list = y2k16_df.values.tolist()\n",
    "#happiness_2016_list"
   ]
  },
  {
   "cell_type": "code",
   "execution_count": null,
   "metadata": {},
   "outputs": [],
   "source": [
    "happiness_2017_list = y2k17_df.values.tolist()\n",
    "#happiness_2017_list"
   ]
  },
  {
   "cell_type": "code",
   "execution_count": null,
   "metadata": {},
   "outputs": [],
   "source": [
    "happiness_2018_list = y2k18_df.values.tolist()\n",
    "#happiness_2018_list"
   ]
  },
  {
   "cell_type": "code",
   "execution_count": null,
   "metadata": {},
   "outputs": [],
   "source": [
    "happiness_2019_list = y2k19_df.values.tolist()\n",
    "#happiness_2019_list"
   ]
  },
  {
   "cell_type": "code",
   "execution_count": null,
   "metadata": {},
   "outputs": [],
   "source": [
    "happiness_2020_list = y2k20_df.values.tolist()\n",
    "#happiness_2020_list"
   ]
  },
  {
   "cell_type": "code",
   "execution_count": null,
   "metadata": {},
   "outputs": [],
   "source": []
  },
  {
   "cell_type": "code",
   "execution_count": null,
   "metadata": {},
   "outputs": [],
   "source": []
  }
 ],
 "metadata": {
  "kernelspec": {
   "display_name": "Python 3",
   "language": "python",
   "name": "python3"
  },
  "language_info": {
   "codemirror_mode": {
    "name": "ipython",
    "version": 3
   },
   "file_extension": ".py",
   "mimetype": "text/x-python",
   "name": "python",
   "nbconvert_exporter": "python",
   "pygments_lexer": "ipython3",
   "version": "3.8.3"
  }
 },
 "nbformat": 4,
 "nbformat_minor": 4
}
